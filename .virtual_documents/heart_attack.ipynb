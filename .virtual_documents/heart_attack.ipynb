








import pandas as pd
import numpy as np





# Load dataset
heart_attack = pd.read_csv('heart_attack.csv')

# Print columns infos and a preview of the first five rows 
print({heart_attack.info()})
heart_attack.head()


heart_attack.describe()


heart_attack = heart_attack.rename(
    columns = {
        'Heart_Attack_Incidence': 'HA_incidence',
        'Region_Heart_Attack_Rate': 'Region_HA_rate',
        'Socioeconomic_Status': 'SocioStatus',
        'Air_Pollution_Index': 'Air_Pollution',
        'Physical_Activity_Level': 'Physical_Activity'
    }
)



def dataCleaning(df):
    for i in df.columns:
        if df[i].dtype == 'object':
            df[i] = df[i].str.lower()
            df[i] = df[i].str.strip()
    return df


heart_attack = dataCleaning(heart_attack)
heart_attack.head()


# heart_attack['year'].value_counts(normalize=True).sort_index()

ha_only = heart_attack[heart_attack['ha_incidence'] == 1]

age_group_HA = ha_only['age_group'].value_counts(normalize=True)*100

print(f"Percentage distribution by age group:\nAdult: {round(age_group_HA.loc['adult'])} %\nYouth: {round(age_group_HA.loc['youth'])} %")




pivot_ha = pd.pivot_table(
    ha_only,
    values = 'gender',
    columns = 'gender',
    index = 'age_group',
    aggfunc = 'count'
)


pivot_ha.head()






