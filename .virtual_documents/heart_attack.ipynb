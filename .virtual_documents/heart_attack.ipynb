








import pandas as pd
import numpy as np





# Load dataset
heart_attack = pd.read_csv('heart_attack.csv')

# Print columns infos and a preview of the first five rows 
print({heart_attack.info()})
heart_attack.head()


heart_attack.describe()


heart_attack = heart_attack.rename(
    columns = {
        'Heart_Attack_Incidence': 'HA_incidence',
        'Region_Heart_Attack_Rate': 'Region_HA_rate',
        'Socioeconomic_Status': 'SocioStatus',
        'Air_Pollution_Index': 'Air_Pollution',
        'Physical_Activity_Level': 'Physical_Activity'
    }
)



def dataCleaning(df):
    for i in df.columns:
        if df[i].dtype == 'object':
            df[i] = df[i].str.lower()
            df[i] = df[i].str.strip()
    return df

ht_new = dataCleaning(heart_attack)
ht_new.head()


proportion = heart_attack['Age_Group'].value_counts()

proportion


# heart_attack['year'].value_counts(normalize=True).sort_index()


age_group_HA = ht_new['Age_Group'].value_counts(normalize=True)*100

print(f"Percentage distribution by age group:\nAdult: {round(age_group_HA.loc['adult'])} %\nYouth: {round(age_group_HA.loc['youth'])} %")




# pivot_ha = pd.pivot_table(
#     ha_only,
#     values = 'Age_Group',
#     columns = 'Gender',
#     index = 'Age_Group',
#     aggfunc = 'count'
# ).reset_index()

count = ht_new.groupby(['Gender','Age_Group'])['HA_incidence'].count()


count.head()


import matplotlib.pyplot as plt

year_evo = ht_new[ht_new['HA_incidence'] == 1].groupby('Year')['HA_incidence'].count()

year_evo
# Tracer l'évolution des cas de crise cardiaque par année
year_evo.plot(kind='line', marker='o', title="Évolution des cas de crise cardiaque par année", ylabel="Nombre de cas", xlabel="Année")
plt.grid(True)
plt.show()



# Regroupement des données
heart_attack.groupby('Age_Group')['HA_incidence'].sum() / heart_attack.groupby('Age_Group')['HA_incidence'].count() * 100




