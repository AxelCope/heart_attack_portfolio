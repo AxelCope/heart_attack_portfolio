import pandas as pd

heart_attack = pd.read_csv('heart_attack.csv')

heart_attack.head()


heart_attack.describe()


heart_attack.info()



